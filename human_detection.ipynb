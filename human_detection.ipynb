{
  "cells": [
    {
      "cell_type": "markdown",
      "metadata": {
        "id": "view-in-github",
        "colab_type": "text"
      },
      "source": [
        "<a href=\"https://colab.research.google.com/github/victoriamazilu/human-detection/blob/main/human_detection.ipynb\" target=\"_parent\"><img src=\"https://colab.research.google.com/assets/colab-badge.svg\" alt=\"Open In Colab\"/></a>"
      ]
    },
    {
      "cell_type": "markdown",
      "metadata": {
        "id": "FyRdDYkqAKN4"
      },
      "source": [
        "## Before you start\n",
        "\n",
        "Let's make sure that we have access to GPU. We can use `nvidia-smi` command to do that. In case of any problems navigate to `Edit` -> `Notebook settings` -> `Hardware accelerator`, set it to `GPU`, and then click `Save`."
      ]
    },
    {
      "cell_type": "code",
      "execution_count": null,
      "metadata": {
        "colab": {
          "base_uri": "https://localhost:8080/"
        },
        "id": "Y8cDtxLIBHgQ",
        "outputId": "d50b31b2-c2c7-4896-e406-766fd4ca85af"
      },
      "outputs": [
        {
          "output_type": "stream",
          "name": "stdout",
          "text": [
            "Mon Jun  2 22:26:51 2025       \n",
            "+-----------------------------------------------------------------------------------------+\n",
            "| NVIDIA-SMI 550.54.15              Driver Version: 550.54.15      CUDA Version: 12.4     |\n",
            "|-----------------------------------------+------------------------+----------------------+\n",
            "| GPU  Name                 Persistence-M | Bus-Id          Disp.A | Volatile Uncorr. ECC |\n",
            "| Fan  Temp   Perf          Pwr:Usage/Cap |           Memory-Usage | GPU-Util  Compute M. |\n",
            "|                                         |                        |               MIG M. |\n",
            "|=========================================+========================+======================|\n",
            "|   0  Tesla T4                       Off |   00000000:00:04.0 Off |                    0 |\n",
            "| N/A   70C    P8             12W /   70W |       0MiB /  15360MiB |      0%      Default |\n",
            "|                                         |                        |                  N/A |\n",
            "+-----------------------------------------+------------------------+----------------------+\n",
            "                                                                                         \n",
            "+-----------------------------------------------------------------------------------------+\n",
            "| Processes:                                                                              |\n",
            "|  GPU   GI   CI        PID   Type   Process name                              GPU Memory |\n",
            "|        ID   ID                                                               Usage      |\n",
            "|=========================================================================================|\n",
            "|  No running processes found                                                             |\n",
            "+-----------------------------------------------------------------------------------------+\n"
          ]
        }
      ],
      "source": [
        "!nvidia-smi"
      ]
    },
    {
      "cell_type": "code",
      "execution_count": null,
      "metadata": {
        "colab": {
          "base_uri": "https://localhost:8080/"
        },
        "id": "CjpPg4mGKc1v",
        "outputId": "7c99fabb-a7d0-4fd0-9ee4-b0739fc7afec"
      },
      "outputs": [
        {
          "output_type": "stream",
          "name": "stdout",
          "text": [
            "/content\n"
          ]
        }
      ],
      "source": [
        "import os\n",
        "HOME = os.getcwd()\n",
        "print(HOME)"
      ]
    },
    {
      "cell_type": "markdown",
      "metadata": {
        "id": "3C3EO_2zNChu"
      },
      "source": [
        "## Install YOLOv8\n",
        "\n",
        "YOLOv8 can be installed in two ways - from the source and via pip. This is because it is the first iteration of YOLO to have an official package."
      ]
    },
    {
      "cell_type": "code",
      "execution_count": null,
      "metadata": {
        "colab": {
          "base_uri": "https://localhost:8080/"
        },
        "id": "tdSMcABDNKW-",
        "outputId": "168cf6c4-0bb8-48bf-e0db-1198a362c757"
      },
      "outputs": [
        {
          "output_type": "stream",
          "name": "stdout",
          "text": [
            "Ultralytics YOLOv8.2.103 🚀 Python-3.11.12 torch-2.6.0+cu124 CUDA:0 (Tesla T4, 15095MiB)\n",
            "Setup complete ✅ (2 CPUs, 12.7 GB RAM, 41.4/112.6 GB disk)\n"
          ]
        }
      ],
      "source": [
        "# Pip install method (recommended)\n",
        "!pip install numpy==1.24.3 --quiet\n",
        "\n",
        "!pip install ultralytics==8.2.103 -q\n",
        "\n",
        "from IPython import display\n",
        "display.clear_output()\n",
        "\n",
        "import ultralytics\n",
        "ultralytics.checks()"
      ]
    },
    {
      "cell_type": "code",
      "execution_count": null,
      "metadata": {
        "id": "VOEYrlBoP9-E"
      },
      "outputs": [],
      "source": [
        "from ultralytics import YOLO\n",
        "\n",
        "from IPython.display import display, Image"
      ]
    },
    {
      "cell_type": "code",
      "execution_count": null,
      "metadata": {
        "colab": {
          "base_uri": "https://localhost:8080/"
        },
        "id": "Rx9NWF-sVN6Y",
        "outputId": "629a9d58-f903-4187-adb6-079e1aea140d"
      },
      "outputs": [
        {
          "output_type": "stream",
          "name": "stdout",
          "text": [
            "Downloading https://github.com/ultralytics/assets/releases/download/v8.2.0/yolov8s-seg.pt to '/content/yolov8s-seg.pt'...\n"
          ]
        },
        {
          "output_type": "stream",
          "name": "stderr",
          "text": [
            "100%|██████████| 22.8M/22.8M [00:00<00:00, 60.5MB/s]\n"
          ]
        }
      ],
      "source": [
        "model = YOLO(f'{HOME}/yolov8s-seg.pt')\n",
        "#results = model.predict(source='https://media.roboflow.com/notebooks/examples/dog.jpeg', conf=0.25)"
      ]
    },
    {
      "cell_type": "code",
      "source": [
        "%%html\n",
        "<video id=\"video\" autoplay playsinline style=\"display:none;\"></video>\n",
        "<canvas id=\"canvas\" style=\"display:none;\"></canvas>\n",
        "<script>\n",
        "(async () => {\n",
        "  const video  = document.getElementById('video');\n",
        "  const canvas = document.getElementById('canvas');\n",
        "  const ctx    = canvas.getContext('2d');\n",
        "\n",
        "  try {\n",
        "    const stream = await navigator.mediaDevices.getUserMedia({video:true});\n",
        "    video.srcObject = stream;\n",
        "    await video.play();\n",
        "  } catch (e) {\n",
        "    console.error('Camera access denied or not available', e);\n",
        "    return;\n",
        "  }\n",
        "\n",
        "  canvas.width  = video.videoWidth;\n",
        "  canvas.height = video.videoHeight;\n",
        "  google.colab.output.setIframeHeight(canvas.height + 20);\n",
        "\n",
        "  window.captureFrame = () => {\n",
        "    ctx.drawImage(video, 0, 0, canvas.width, canvas.height);\n",
        "    return canvas.toDataURL('image/jpeg', 0.8);\n",
        "  };\n",
        "</script>\n"
      ],
      "metadata": {
        "colab": {
          "base_uri": "https://localhost:8080/",
          "height": 17
        },
        "id": "3h8h8xKnMMRw",
        "outputId": "b06628d3-2d5c-43d0-d25f-5233cee5281c"
      },
      "execution_count": null,
      "outputs": [
        {
          "output_type": "display_data",
          "data": {
            "text/plain": [
              "<IPython.core.display.HTML object>"
            ],
            "text/html": [
              "<video id=\"video\" autoplay playsinline style=\"display:none;\"></video>\n",
              "<canvas id=\"canvas\" style=\"display:none;\"></canvas>\n",
              "<script>\n",
              "(async () => {\n",
              "  const video  = document.getElementById('video');\n",
              "  const canvas = document.getElementById('canvas');\n",
              "  const ctx    = canvas.getContext('2d');\n",
              "\n",
              "  try {\n",
              "    const stream = await navigator.mediaDevices.getUserMedia({video:true});\n",
              "    video.srcObject = stream;\n",
              "    await video.play();\n",
              "  } catch (e) {\n",
              "    console.error('Camera access denied or not available', e);\n",
              "    return;\n",
              "  }\n",
              "\n",
              "  canvas.width  = video.videoWidth;\n",
              "  canvas.height = video.videoHeight;\n",
              "  google.colab.output.setIframeHeight(canvas.height + 20);\n",
              "\n",
              "  window.captureFrame = () => {\n",
              "    ctx.drawImage(video, 0, 0, canvas.width, canvas.height);\n",
              "    return canvas.toDataURL('image/jpeg', 0.8);\n",
              "  };\n",
              "</script>\n"
            ]
          },
          "metadata": {}
        }
      ]
    },
    {
      "cell_type": "markdown",
      "source": [
        "# First Day solution"
      ],
      "metadata": {
        "id": "tzTdD0BqEo9z"
      }
    },
    {
      "cell_type": "code",
      "source": [
        "# ───── Combined JS + Widget + Segmentation Loop ─────\n",
        "from IPython.display import Javascript, display\n",
        "from google.colab.output import eval_js\n",
        "from base64 import b64decode\n",
        "import cv2, numpy as np, time\n",
        "import ipywidgets as widgets\n",
        "from ultralytics import YOLO\n",
        "\n",
        "# 1) Inject the JS into the notebook DOM\n",
        "display(Javascript(\"\"\"\n",
        "(async () => {\n",
        "  const v = document.createElement('video');\n",
        "  v.autoplay = v.playsInline = true;\n",
        "  v.style.display = 'none';\n",
        "  document.body.appendChild(v);\n",
        "\n",
        "  const c = document.createElement('canvas');\n",
        "  c.style.display = 'none';\n",
        "  document.body.appendChild(c);\n",
        "  const ctx = c.getContext('2d');\n",
        "\n",
        "  const stream = await navigator.mediaDevices.getUserMedia({video:true});\n",
        "  v.srcObject = stream;\n",
        "  await v.play();\n",
        "\n",
        "  c.width = v.videoWidth;\n",
        "  c.height = v.videoHeight;\n",
        "  google.colab.output.setIframeHeight(c.height + 20);\n",
        "\n",
        "  window.captureFrame = () => {\n",
        "    ctx.drawImage(v, 0, 0, c.width, c.height);\n",
        "    return c.toDataURL('image/jpeg', 0.8);\n",
        "  };\n",
        "})();\n",
        "\"\"\"))\n",
        "\n",
        "# 2) Wait for captureFrame() to become available\n",
        "print(\"⏳ Waiting for camera…\")\n",
        "for _ in range(25):\n",
        "    try:\n",
        "        if eval_js(\"typeof captureFrame\") == 'function':\n",
        "            print(\"✅ Camera ready!\")\n",
        "            break\n",
        "    except Exception:\n",
        "        pass\n",
        "    time.sleep(0.2)\n",
        "else:\n",
        "    raise RuntimeError(\"camera never initialized – did you allow permission?\")\n",
        "\n",
        "# 3) Helpers to pull & decode frames\n",
        "def get_frame():\n",
        "    data = eval_js('captureFrame()')\n",
        "    _, b64 = data.split(',', 1)\n",
        "    img = cv2.imdecode(\n",
        "        np.frombuffer(b64decode(b64), np.uint8),\n",
        "        cv2.IMREAD_COLOR\n",
        "    )\n",
        "    return img\n",
        "\n",
        "# 4) Load your trained model (adjust path if necessary)\n",
        "model = YOLO('/content/yolov8s-seg.pt')\n",
        "person_class = 0  # usually 0 for COCO “person”\n",
        "\n",
        "# 5) Create a persistent widget & show once\n",
        "img_widget = widgets.Image(format='jpeg')\n",
        "display(img_widget)\n",
        "\n",
        "# 6) Run the live loop, updating widget in-place\n",
        "print(\"▶️ Starting live person segmentation. Interrupt (⏹) to stop.\")\n",
        "try:\n",
        "    while True:\n",
        "        frame = get_frame()\n",
        "        res   = model.predict(frame, classes=[person_class], stream=False)\n",
        "        vis   = res[0].plot()\n",
        "        _, jpg = cv2.imencode('.jpg', vis)\n",
        "        img_widget.value = jpg.tobytes()\n",
        "        # tiny sleep so you don’t hammer eval_js\n",
        "        time.sleep(0.02)\n",
        "except KeyboardInterrupt:\n",
        "    print(\"⏹ Segmentation stopped.\")\n"
      ],
      "metadata": {
        "id": "dReCKNRAyVzf",
        "outputId": "7e982022-ad88-4e44-bde9-09ecdf16e200",
        "colab": {
          "base_uri": "https://localhost:8080/",
          "height": 233
        }
      },
      "execution_count": null,
      "outputs": [
        {
          "output_type": "display_data",
          "data": {
            "text/plain": [
              "<IPython.core.display.Javascript object>"
            ],
            "application/javascript": [
              "\n",
              "(async () => {\n",
              "  const v = document.createElement('video');\n",
              "  v.autoplay = v.playsInline = true;\n",
              "  v.style.display = 'none';\n",
              "  document.body.appendChild(v);\n",
              "\n",
              "  const c = document.createElement('canvas');\n",
              "  c.style.display = 'none';\n",
              "  document.body.appendChild(c);\n",
              "  const ctx = c.getContext('2d');\n",
              "\n",
              "  const stream = await navigator.mediaDevices.getUserMedia({video:true});\n",
              "  v.srcObject = stream;\n",
              "  await v.play();\n",
              "\n",
              "  c.width = v.videoWidth;\n",
              "  c.height = v.videoHeight;\n",
              "  google.colab.output.setIframeHeight(c.height + 20);\n",
              "\n",
              "  window.captureFrame = () => {\n",
              "    ctx.drawImage(v, 0, 0, c.width, c.height);\n",
              "    return c.toDataURL('image/jpeg', 0.8);\n",
              "  };\n",
              "})();\n"
            ]
          },
          "metadata": {}
        },
        {
          "output_type": "stream",
          "name": "stdout",
          "text": [
            "⏳ Waiting for camera…\n"
          ]
        },
        {
          "output_type": "error",
          "ename": "RuntimeError",
          "evalue": "camera never initialized – did you allow permission?",
          "traceback": [
            "\u001b[0;31m---------------------------------------------------------------------------\u001b[0m",
            "\u001b[0;31mRuntimeError\u001b[0m                              Traceback (most recent call last)",
            "\u001b[0;32m<ipython-input-6-5761586b2a25>\u001b[0m in \u001b[0;36m<cell line: 0>\u001b[0;34m()\u001b[0m\n\u001b[1;32m     46\u001b[0m     \u001b[0mtime\u001b[0m\u001b[0;34m.\u001b[0m\u001b[0msleep\u001b[0m\u001b[0;34m(\u001b[0m\u001b[0;36m0.2\u001b[0m\u001b[0;34m)\u001b[0m\u001b[0;34m\u001b[0m\u001b[0;34m\u001b[0m\u001b[0m\n\u001b[1;32m     47\u001b[0m \u001b[0;32melse\u001b[0m\u001b[0;34m:\u001b[0m\u001b[0;34m\u001b[0m\u001b[0;34m\u001b[0m\u001b[0m\n\u001b[0;32m---> 48\u001b[0;31m     \u001b[0;32mraise\u001b[0m \u001b[0mRuntimeError\u001b[0m\u001b[0;34m(\u001b[0m\u001b[0;34m\"camera never initialized – did you allow permission?\"\u001b[0m\u001b[0;34m)\u001b[0m\u001b[0;34m\u001b[0m\u001b[0;34m\u001b[0m\u001b[0m\n\u001b[0m\u001b[1;32m     49\u001b[0m \u001b[0;34m\u001b[0m\u001b[0m\n\u001b[1;32m     50\u001b[0m \u001b[0;31m# 3) Helpers to pull & decode frames\u001b[0m\u001b[0;34m\u001b[0m\u001b[0;34m\u001b[0m\u001b[0m\n",
            "\u001b[0;31mRuntimeError\u001b[0m: camera never initialized – did you allow permission?"
          ]
        }
      ]
    },
    {
      "cell_type": "markdown",
      "source": [],
      "metadata": {
        "id": "hXcOWjgsM5bm"
      }
    }
  ],
  "metadata": {
    "accelerator": "GPU",
    "colab": {
      "gpuType": "T4",
      "provenance": [],
      "include_colab_link": true
    },
    "kernelspec": {
      "display_name": "Python 3",
      "name": "python3"
    },
    "language_info": {
      "name": "python"
    }
  },
  "nbformat": 4,
  "nbformat_minor": 0
}